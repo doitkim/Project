{
 "cells": [
  {
   "attachments": {
    "image.png": {
     "image/png": "[encoded data removed]"
    }
   },
   "cell_type": "markdown",
   "id": "f8c7b2ac",
   "metadata": {},
   "source": [
    "## 실험 설계(Design of experiment)\n",
    "* experiment: 어떤 가설(hypothesis)을 확인(confirm)/기각(reject)하여 결론을 내기위해 설계   \n",
    "예시) 어떠한 결정을 내릴 시 유의미한 차이가 발생하는지 등   \n",
    "신약이 기존의 약보다 효력이 좋은지 / 판매가를 변경하면 수익이 오를지\n",
    "\n",
    "![image.png](attachment:image.png)\n",
    "<center>classical statistical inference pipeline</center>  \n",
    "* inference: 제한된 데이터셋에서 수행한 실험 결과를 더 큰 process나 모집단(population)에 적용하는 것"
   ]
  },
  {
   "cell_type": "markdown",
   "id": "20cb1d1d",
   "metadata": {},
   "source": [
    "## A/B Testing\n",
    "* 방안, 절차 등 두가지 처리 방법(treatment)에 대해 어느 것이 나은지 확인하기 위해, 두 그룹으로 구성한 실험   \n",
    "* 일반적으로 기존 방식과 새로운 방식에 대해 비교하며, 기존 방식을 따르는 그룹을 대조군(control)으로 둠   \n",
    "control group: 기존 방식대로 처리한 subject들의 그룹   \n",
    "treatment group: 새로운/특정한 방식으로 처리한 subject들의 그룹\n",
    "* treatment만 두 그룹간의 차이 발생의 원인이 되도록 제어하기, 위해 subject들은 랜덤하게 선정\n",
    "* test statistic: 두개 그룹을 비교하기 위해 사용할 지표(평균 등)   \n",
    "연구자 편향(bias)을 막기 위해, 실험을 실행하기 전 결정\n",
    "\n",
    "\n",
    "적용 사례 예시) web context\n",
    "- treatment: web page, price of a product, wording of a headline, ...\n",
    "- subject: web visitor\n",
    "- outcome: clicks, purchases, visit duration, number of pages visited, whether a particular page is visited\n",
    "\n",
    "\n",
    "* 두가지 이상의 treatment를 비교하는 experimental design: multi-arm bandit"
   ]
  },
  {
   "cell_type": "markdown",
   "id": "ba258cfd",
   "metadata": {},
   "source": [
    "## Hypothesis Tests (Significance test)\n",
    "* 가설 검정 (유의성 검정)\n",
    "* 어떤 현상이 우연히 일어난 것인지 / 분명한 차이가 있는 것인지 확인   \n",
    "\n",
    "\n",
    "* Null hypothesis: 귀무가설. 두 그룹은 본질적으로 같고, 값 차이는 우연히 일어났다고 가정\n",
    "* Alternative hypothesis: 대립가설. 귀무가설과 반대되는 가정. 일반적으로 실험을 통해 입증하고 싶은 내용으로 설정  \n",
    "Null = “no difference between the means of group A and group B”;   \n",
    "alternative =“A is different from B” (could be bigger or smaller) //   \n",
    "Null = “A ≤ B”; alternative = “A > B”\n",
    "* 가설 검정을 통해, 귀무가설이 거짓 여부를 입증함으로써 대립가설의 참/거짓을 확인할 수 있음\n",
    "\n",
    "\n",
    "* One-way(one-tail) test: 추정 값이 기준 값에서 왼쪽/오른쪽 중 한 방향으로만 벗어날 때 사용   \n",
    "Null = “A = B”; alternative =“A > B” (“A > B”)   \n",
    "* Two-way(two-tail) test: 추정 값이 기준 값보다 크거나 작은 경우에 사용   \n",
    "Null = “A = B”; alternative =“A ≠ B”"
   ]
  },
  {
   "cell_type": "markdown",
   "id": "5f0d562d",
   "metadata": {},
   "source": [
    "## Resampling\n",
    "* 통계량의 random variability를 평가하기 위해, observed data에서 값을 여러번 반복 추출하는 것\n",
    "\n",
    "\n",
    "* bootstrap: sample에서 계산한 추정치(estimate)의 신뢰성(reliability)을 평가하기 위해 사용\n",
    "* permutation: 두 개 이상 그룹을 포함하는 가설 검정에 사용\n",
    "\n",
    "### Permutation Test\n",
    "1. 서로 다른 그룹(A, B, C, D, ...)의 데이터를 연결하여 single data set 구축\n",
    "2. 새로 구축한 데이터셋을 섞고(shuffle), 이를 비복원추출하여 기존 A 그룹과 같은 사이즈인 새로운 데이터 그룹 형성\n",
    "3. 마찬가지로 남은 데이터셋을 비복원 추출하여 기존 그룹 B, C, D, ...와 같은 크기의 새로운 데이터 그룹 형성\n",
    "4. 기존 그룹들에서 계산했던 statistic/estimate(그룹 간 비율 차이 등)을 새로 형성한 그룹들에 대해서도 계산; 순열 반복 1회\n",
    "5. 1~4 단계를 R회 반복하여, test statistic의 permutation distribution 생성\n",
    "6. 최초 관찰했던 그룹간 차이(difference)와 permuted 그룹간 차이를 비교했을 때, 최초 관찰한 차이가 permutation distribution에서 드물게 나타나는 경우 해당 차이는 통계적으로 유의미하다고 판단함(statistically significant). 즉 그룹간에 분명한 차이가 존재함"
   ]
  },
  {
   "cell_type": "markdown",
   "id": "e13f6d52",
   "metadata": {},
   "source": [
    "### Permutation Test - example\n",
    "문제 상황: 고품질의 서비스를 판매하는 회사에서 두가지 웹페이지(A, B) 중 어떤 웹페이지가 더 홍보를 잘하는 지 알고 싶으나, 서비스의 가격이 높아 충분한 판매 데이터가 없음   \n",
    "\n",
    "변수 설정: proxy variable 사용. 웹페이지를 오래 보는 사람은 서비스를 구매할 확률이 높다고 판단하여, 웹페이지 잔류 시간(session time)을 변수로 사용하기로 결정   \n",
    "\n",
    "실험 설계: 웹페이지 A, B의 average session time을 비교하여 통계적으로 유의미한 차이가 있는지 검정\n",
    "* 대리변수(proxy variable): 획득이나 사용이 어려운 어떤 변수를 대신하여 사용하는 변수"
   ]
  },
  {
   "cell_type": "code",
   "execution_count": 1,
   "id": "769208c7",
   "metadata": {},
   "outputs": [],
   "source": [
    "import pandas as pd\n",
    "import matplotlib.pyplot as plt"
   ]
  },
  {
   "cell_type": "code",
   "execution_count": 2,
   "id": "8d72a029",
   "metadata": {},
   "outputs": [
    {
     "data": {
      "text/html": [
       "<div>\n",
       "<style scoped>\n",
       "    .dataframe tbody tr th:only-of-type {\n",
       "        vertical-align: middle;\n",
       "    }\n",
       "\n",
       "    .dataframe tbody tr th {\n",
       "        vertical-align: top;\n",
       "    }\n",
       "\n",
       "    .dataframe thead th {\n",
       "        text-align: right;\n",
       "    }\n",
       "</style>\n",
       "<table border=\"1\" class=\"dataframe\">\n",
       "  <thead>\n",
       "    <tr style=\"text-align: right;\">\n",
       "      <th></th>\n",
       "      <th>Page</th>\n",
       "      <th>Time</th>\n",
       "    </tr>\n",
       "  </thead>\n",
       "  <tbody>\n",
       "    <tr>\n",
       "      <th>0</th>\n",
       "      <td>Page A</td>\n",
       "      <td>0.21</td>\n",
       "    </tr>\n",
       "    <tr>\n",
       "      <th>1</th>\n",
       "      <td>Page B</td>\n",
       "      <td>2.53</td>\n",
       "    </tr>\n",
       "    <tr>\n",
       "      <th>2</th>\n",
       "      <td>Page A</td>\n",
       "      <td>0.35</td>\n",
       "    </tr>\n",
       "    <tr>\n",
       "      <th>3</th>\n",
       "      <td>Page B</td>\n",
       "      <td>0.71</td>\n",
       "    </tr>\n",
       "    <tr>\n",
       "      <th>4</th>\n",
       "      <td>Page A</td>\n",
       "      <td>0.67</td>\n",
       "    </tr>\n",
       "  </tbody>\n",
       "</table>\n",
       "</div>"
      ],
      "text/plain": [
       "     Page  Time\n",
       "0  Page A  0.21\n",
       "1  Page B  2.53\n",
       "2  Page A  0.35\n",
       "3  Page B  0.71\n",
       "4  Page A  0.67"
      ]
     },
     "execution_count": 2,
     "metadata": {},
     "output_type": "execute_result"
    }
   ],
   "source": [
    "# page A, page B \n",
    "sessiojn_times = pd.read_csv('./web_session_time.csv')\n",
    "sessiojn_times.head()"
   ]
  },
  {
   "cell_type": "code",
   "execution_count": 3,
   "id": "65763ea9",
   "metadata": {},
   "outputs": [
    {
     "name": "stdout",
     "output_type": "stream",
     "text": [
      "21\n",
      "15\n"
     ]
    }
   ],
   "source": [
    "print(len(sessiojn_times[sessiojn_times['Page'] == 'Page A']))\n",
    "print(len(sessiojn_times[sessiojn_times['Page'] == 'Page B']))"
   ]
  },
  {
   "cell_type": "code",
   "execution_count": 4,
   "id": "1f36def4",
   "metadata": {},
   "outputs": [
    {
     "data": {
      "image/png": "[encoded data removed]",
      "text/plain": [
       "<Figure size 432x432 with 1 Axes>"
      ]
     },
     "metadata": {
      "needs_background": "light"
     },
     "output_type": "display_data"
    }
   ],
   "source": [
    "sessiojn_times.boxplot(column='Time', by='Page', figsize=(6,6))\n",
    "plt.show()"
   ]
  },
  {
   "cell_type": "code",
   "execution_count": 5,
   "id": "a1e86337",
   "metadata": {},
   "outputs": [
    {
     "name": "stdout",
     "output_type": "stream",
     "text": [
      "0.35666666666666713\n"
     ]
    }
   ],
   "source": [
    "mean_A = sessiojn_times[sessiojn_times['Page'] == 'Page A']['Time'].mean()\n",
    "mean_B = sessiojn_times[sessiojn_times['Page'] == 'Page B']['Time'].mean()\n",
    "print(mean_B - mean_A) # web page A, B의 average session time의 차이(difference)"
   ]
  },
  {
   "cell_type": "code",
   "execution_count": 6,
   "id": "7f84c934",
   "metadata": {},
   "outputs": [
    {
     "name": "stdout",
     "output_type": "stream",
     "text": [
      "{0, 1, 2, 3, 4, 5, 6, 9, 11, 12, 15, 17, 19, 20, 22, 23, 24, 26, 28, 31, 33}\n",
      "{32, 34, 35, 7, 8, 10, 13, 14, 16, 18, 21, 25, 27, 29, 30}\n"
     ]
    },
    {
     "name": "stderr",
     "output_type": "stream",
     "text": [
      "C:\\Users\\user\\AppData\\Local\\Temp/ipykernel_33624/3104810968.py:9: DeprecationWarning: Sampling from a set deprecated\n",
      "since Python 3.9 and will be removed in a subsequent version.\n",
      "  idx_A = set(random.sample(idx_list, nA))\n"
     ]
    }
   ],
   "source": [
    "# A, B의 Time을 섞어서 하나의 데이터 셋을 만듦\n",
    "# nA, nB 크기의 그룹 2개로 나누어야 함 \n",
    "nA = 21\n",
    "nB = 15\n",
    "\n",
    "n = nA + nB \n",
    "idx_list = set(list(range(n)))\n",
    "import random\n",
    "idx_A = set(random.sample(idx_list, nA))\n",
    "idx_B = idx_list - idx_A\n",
    "print(idx_A)\n",
    "print(idx_B)"
   ]
  },
  {
   "cell_type": "code",
   "execution_count": 7,
   "id": "5005e367",
   "metadata": {},
   "outputs": [],
   "source": [
    "regroup_A = sessiojn_times['Time'].loc[idx_A]\n",
    "regroup_B = sessiojn_times['Time'].loc[idx_B]"
   ]
  },
  {
   "cell_type": "code",
   "execution_count": 8,
   "id": "b9789f45",
   "metadata": {},
   "outputs": [
    {
     "data": {
      "text/plain": [
       "0.006952380952381043"
      ]
     },
     "execution_count": 8,
     "metadata": {},
     "output_type": "execute_result"
    }
   ],
   "source": [
    "regroup_B.mean() - regroup_A.mean()"
   ]
  },
  {
   "cell_type": "code",
   "execution_count": 9,
   "id": "508ae597",
   "metadata": {},
   "outputs": [],
   "source": [
    "def permute_test(times, nA, nB):\n",
    "    n =nA + nB\n",
    "    idx_list = set(list(range(n)))\n",
    "    idx_A = set(random.sample(idx_list, nA))\n",
    "    idx_B = idx_list - idx_A\n",
    "    \n",
    "    regroup_A = times.loc[idx_A]\n",
    "    regroup_B = times.loc[idx_B]\n",
    "    \n",
    "    return regroup_B.mean() - regroup_A.mean()"
   ]
  },
  {
   "cell_type": "code",
   "execution_count": 10,
   "id": "5d12db1b",
   "metadata": {},
   "outputs": [
    {
     "name": "stdout",
     "output_type": "stream",
     "text": [
      "-0.41704761904761933\n"
     ]
    },
    {
     "name": "stderr",
     "output_type": "stream",
     "text": [
      "C:\\Users\\user\\AppData\\Local\\Temp/ipykernel_33624/2392290661.py:4: DeprecationWarning: Sampling from a set deprecated\n",
      "since Python 3.9 and will be removed in a subsequent version.\n",
      "  idx_A = set(random.sample(idx_list, nA))\n"
     ]
    }
   ],
   "source": [
    "print(permute_test(sessiojn_times['Time'], nA, nB))"
   ]
  },
  {
   "cell_type": "code",
   "execution_count": 11,
   "id": "b190e0cc",
   "metadata": {},
   "outputs": [
    {
     "name": "stderr",
     "output_type": "stream",
     "text": [
      "C:\\Users\\user\\AppData\\Local\\Temp/ipykernel_33624/2392290661.py:4: DeprecationWarning: Sampling from a set deprecated\n",
      "since Python 3.9 and will be removed in a subsequent version.\n",
      "  idx_A = set(random.sample(idx_list, nA))\n"
     ]
    }
   ],
   "source": [
    "random.seed()\n",
    "# permutation difference\n",
    "p_diffs = []\n",
    "for _ in range(1000):\n",
    "    diff = permute_test(sessiojn_times['Time'], nA, nB)\n",
    "    p_diffs.append(diff)\n"
   ]
  },
  {
   "cell_type": "code",
   "execution_count": 12,
   "id": "f6e21758",
   "metadata": {},
   "outputs": [
    {
     "data": {
      "text/plain": [
       "<AxesSubplot:ylabel='Frequency'>"
      ]
     },
     "execution_count": 12,
     "metadata": {},
     "output_type": "execute_result"
    },
    {
     "data": {
      "image/png": "[encoded data removed]",
      "text/plain": [
       "<Figure size 432x288 with 1 Axes>"
      ]
     },
     "metadata": {
      "needs_background": "light"
     },
     "output_type": "display_data"
    }
   ],
   "source": [
    "pd.Series(p_diffs).plot.hist()"
   ]
  },
  {
   "cell_type": "code",
   "execution_count": 13,
   "id": "668aaf69",
   "metadata": {},
   "outputs": [
    {
     "data": {
      "image/png": "[encoded data removed]",
      "text/plain": [
       "<Figure size 432x432 with 1 Axes>"
      ]
     },
     "metadata": {
      "needs_background": "light"
     },
     "output_type": "display_data"
    }
   ],
   "source": [
    "fig, ax = plt.subplots(figsize = (6, 6))\n",
    "ax.hist(p_diffs, bins = 11, rwidth=0.9)\n",
    "\n",
    "ax.axvline(x=mean_B - mean_A, color='black', lw=2)\n",
    "ax.text(0.5, 140, 'Observed\\ndifference', bbox={'facecolor': 'white'})\n",
    "\n",
    "ax.set_xlabel('Sesstion time Difference')\n",
    "ax.set_ylabel('Frequency')\n",
    "\n",
    "plt.show()"
   ]
  },
  {
   "cell_type": "code",
   "execution_count": 14,
   "id": "21a4270b",
   "metadata": {},
   "outputs": [],
   "source": [
    "import numpy as np"
   ]
  },
  {
   "cell_type": "code",
   "execution_count": 15,
   "id": "0477cbbe",
   "metadata": {},
   "outputs": [],
   "source": [
    "p_diffs = np.array(p_diffs)"
   ]
  },
  {
   "cell_type": "code",
   "execution_count": 16,
   "id": "4340adf8",
   "metadata": {},
   "outputs": [
    {
     "data": {
      "text/plain": [
       "0.123"
      ]
     },
     "execution_count": 16,
     "metadata": {},
     "output_type": "execute_result"
    }
   ],
   "source": [
    "sum(p_diffs > mean_B - mean_A) / len(p_diffs)\n",
    "# A = B 귀무가설 1%,5%센트보다 평균에 가까우면 같다는 가설을 기각을 못한다."
   ]
  },
  {
   "cell_type": "code",
   "execution_count": 17,
   "id": "448c0c72",
   "metadata": {},
   "outputs": [],
   "source": [
    "nA = 200 + 23539\n",
    "nB = 182 + 22406"
   ]
  },
  {
   "cell_type": "code",
   "execution_count": 18,
   "id": "30d90d77",
   "metadata": {},
   "outputs": [
    {
     "name": "stdout",
     "output_type": "stream",
     "text": [
      "-0.0003675791182059275\n"
     ]
    }
   ],
   "source": [
    "# Price A, B에 따라서 구매율의 차이가 유의미하게 나는가?\n",
    "# Null : 가격을 바꿔도 구매율 차이는 나지 않는가? ( A = B)\n",
    "# Alternative : 가격을 바꾸면 구매율 차이는 난다. (A is not B)\n",
    "\n",
    "# Numeric : 숫자 자체가 의미를 가짐\n",
    "# Categorical : numeric (label) 로 변형 해주는 과정\n",
    "\n",
    "# Purchase(1) / Not Purchase(0)\n",
    "rate_A = 200 / (200 + 23539)\n",
    "rate_B = 182 / (182 + 22406)\n",
    "\n",
    "rate_diff = rate_B - rate_A\n",
    "print(rate_diff)\n",
    "\n",
    "\n"
   ]
  },
  {
   "cell_type": "code",
   "execution_count": 19,
   "id": "1c83e7f9",
   "metadata": {},
   "outputs": [
    {
     "data": {
      "text/plain": [
       "0        0\n",
       "1        0\n",
       "2        0\n",
       "3        0\n",
       "4        0\n",
       "        ..\n",
       "46322    1\n",
       "46323    1\n",
       "46324    1\n",
       "46325    1\n",
       "46326    1\n",
       "Length: 46327, dtype: int64"
      ]
     },
     "execution_count": 19,
     "metadata": {},
     "output_type": "execute_result"
    }
   ],
   "source": [
    "# Permutation Test\n",
    "# 1) 하나의 데이터 셋으로 combine\n",
    "outcomes = [0] * (23539 + 22406) + [1] * (200 + 182)\n",
    "outcomes = pd.Series(outcomes)\n",
    "outcomes"
   ]
  },
  {
   "cell_type": "code",
   "execution_count": 20,
   "id": "1fdf04f5",
   "metadata": {},
   "outputs": [],
   "source": [
    "# 2) 새로 만든 데이터셋 하나를 -> nA 크기 그룹 하나와 nB 크기 그룹 하나로 재구축\n",
    "outcomes = [0] * (23539 + 22406) + [1] * (200 + 182)\n",
    "outcomes = random.sample(outcomes, len(outcomes))\n",
    "regroup_A, regroup_B = outcomes[:nA], outcomes[nA:]"
   ]
  },
  {
   "cell_type": "code",
   "execution_count": 21,
   "id": "109a704c",
   "metadata": {},
   "outputs": [
    {
     "data": {
      "text/plain": [
       "-0.0003675791182059275"
      ]
     },
     "execution_count": 21,
     "metadata": {},
     "output_type": "execute_result"
    }
   ],
   "source": [
    "r_A = sum(regroup_A) / len(regroup_A)\n",
    "r_B = sum(regroup_B) / len(regroup_B)\n",
    "r_B - r_A"
   ]
  },
  {
   "cell_type": "code",
   "execution_count": 22,
   "id": "5a23fedb",
   "metadata": {},
   "outputs": [
    {
     "name": "stdout",
     "output_type": "stream",
     "text": [
      "23739 22588\n",
      "23739 22588\n"
     ]
    }
   ],
   "source": [
    "print(len(regroup_A), len(regroup_B))\n",
    "print(nA,nB)"
   ]
  },
  {
   "cell_type": "code",
   "execution_count": 23,
   "id": "10d8b2d1",
   "metadata": {},
   "outputs": [],
   "source": [
    "def perm_test(outcome_list, nA, nB): # permutation test 1회 수행\n",
    "    n = nA + nB\n",
    "    idx_list = set(list(range(n)))\n",
    "    idx_A = set(random.sample(idx_list, nA))\n",
    "    idx_B = idx_list - idx_A\n",
    "    regroup_A = outcome_list[idx_A]\n",
    "    regroup_B = outcome_list[idx_B]\n",
    "    r_A = sum(regroup_A) / len(regroup_A)\n",
    "    r_B = sum(regroup_B) / len(regroup_B)\n",
    "    return r_B - r_A"
   ]
  },
  {
   "cell_type": "code",
   "execution_count": 24,
   "id": "7d145f1a",
   "metadata": {},
   "outputs": [
    {
     "name": "stderr",
     "output_type": "stream",
     "text": [
      "C:\\Users\\user\\AppData\\Local\\Temp/ipykernel_33624/778723469.py:4: DeprecationWarning: Sampling from a set deprecated\n",
      "since Python 3.9 and will be removed in a subsequent version.\n",
      "  idx_A = set(random.sample(idx_list, nA))\n"
     ]
    }
   ],
   "source": [
    "random.seed(1)\n",
    "outcomes = [0] * (23539 + 22406) + [1] * (200 + 182)\n",
    "rate_diffs = []\n",
    "for _ in range(500):\n",
    "    diff = perm_test(pd.Series(outcomes), nA, nB)\n",
    "    rate_diffs.append(diff)"
   ]
  },
  {
   "cell_type": "code",
   "execution_count": 26,
   "id": "cda1db9a",
   "metadata": {},
   "outputs": [
    {
     "data": {
      "image/png": "[encoded data removed]",
      "text/plain": [
       "<Figure size 432x432 with 1 Axes>"
      ]
     },
     "metadata": {
      "needs_background": "light"
     },
     "output_type": "display_data"
    }
   ],
   "source": [
    "fig, ax = plt.subplots(figsize = (6, 6))\n",
    "ax.hist(rate_diffs, bins = 11, rwidth=0.9)\n",
    "\n",
    "ax.axvline(x=rate_diff, color='black', lw=2)\n",
    "ax.text(0.0006, 80, 'Observed\\ndifference', bbox={'facecolor': 'white'})\n",
    "\n",
    "ax.set_xlabel('Purchase rate Difference')\n",
    "ax.set_ylabel('Frequency')\n",
    "\n",
    "plt.show()"
   ]
  },
  {
   "cell_type": "code",
   "execution_count": 27,
   "id": "92160294",
   "metadata": {},
   "outputs": [
    {
     "name": "stdout",
     "output_type": "stream",
     "text": [
      "0.65\n"
     ]
    }
   ],
   "source": [
    "rate_diffs = np.array(rate_diffs)\n",
    "print(sum(rate_diffs > rate_diff) / len(rate_diffs))"
   ]
  },
  {
   "cell_type": "markdown",
   "id": "83bc088e",
   "metadata": {},
   "source": [
    "* random permutation test(randomization test): random shuffling & dividing\n",
    "* exhaustive permutation test(exact test)\n",
    "* bootstrap permutation test\n",
    "\n",
    "##### exhaustive permutation test\n",
    "* 데이터가 나누어질 수 있는 모든 경우의 수 고려 (sample size가 작을 때만 실용적)\n",
    "\n",
    "##### bootstrap permutation test\n",
    "* 복원추출로 진행"
   ]
  },
  {
   "cell_type": "markdown",
   "id": "f61de1cc",
   "metadata": {},
   "source": [
    "## Statistical Significance and p-Values\n",
    "* statistical significance: 우연히 일어날 수 있는 것보다 극단적인 결과를 내는지 측정하는 것   \n",
    "chance variation 범위를 넘어서는 경우 통계적으로 유의하다고 판단함\n",
    "* p-value: chance model에서 관찰된 결과보다 극단적인(extreme) 값이 나올 수 있는 빈도(frequency)"
   ]
  },
  {
   "cell_type": "markdown",
   "id": "1f271697",
   "metadata": {},
   "source": [
    "|Outcome|Price A|Price B|전체|\n",
    "|:---|:---|:---|---:|\n",
    "|Purchase|200|182|382|\n",
    "|Not Purchase|23,539|22,406|45,945|\n",
    "|전체|23,739|22,588|46,327|"
   ]
  },
  {
   "cell_type": "markdown",
   "id": "e1135ea7",
   "metadata": {},
   "source": [
    "|Outcome|Price A|Price B|전체|\n",
    "|:---|:---|:---|---:|\n",
    "|Purchase|196|186|382|\n",
    "|Not Purchase|23,543|22,402|45,945|\n",
    "|전체|23,739|22,588|46,327|"
   ]
  },
  {
   "cell_type": "code",
   "execution_count": null,
   "id": "69b7bf95",
   "metadata": {},
   "outputs": [],
   "source": []
  },
  {
   "attachments": {
    "image.png": {
     "image/png": "[encoded data removed]"
    }
   },
   "cell_type": "markdown",
   "id": "5ddb4b44",
   "metadata": {},
   "source": [
    "### Alpha(α)\n",
    "* null hypothesis 기각(reject) 기준이 되는 임계값(threshold)\n",
    "* 일반적으로 alpha level은 5%(0.05), 1%(0.01) 사용\n",
    "\n",
    "### Type I error, Type II error\n",
    "* Type I error: 참인 가설을 기각하는 오류(false negative)\n",
    "* Type II error: 거짓인 가설을 채택하는 오류(false positive)\n",
    "* confusion matrix\n",
    "![image.png](attachment:image.png)"
   ]
  },
  {
   "cell_type": "markdown",
   "id": "233cb0d9",
   "metadata": {},
   "source": [
    "* 데이터의 타입(count data / measured data), sample 개수 등에 따라 적절한 타입의 significance test를 사용함"
   ]
  },
  {
   "cell_type": "markdown",
   "id": "f6031b6e",
   "metadata": {},
   "source": [
    "## 자유도(Degrees of Freedom)\n",
    "* 표본 데이터에서 계산된 statistic에 적용되는 개념으로, 자유롭게 변경할 수 있는 값의 '개수'를 의미하며, 여러 확률 분포의 모양에 영향을 미침   \n",
    "예시) 10개의 값이 있는 표본집단의 mean을 알고 있다면, 자유도는 9"
   ]
  },
  {
   "cell_type": "markdown",
   "id": "e41f1ab2",
   "metadata": {},
   "source": [
    "## t-Test\n",
    "* 단일 표본 평균의 분포를 근사하기 위해 개발된 t-분포에서 이름을 따옴\n",
    "* 데이터 타입이 numeric(not binary)인 A/B test에서 많이 사용됨"
   ]
  },
  {
   "cell_type": "code",
   "execution_count": null,
   "id": "48cfadb6",
   "metadata": {},
   "outputs": [],
   "source": []
  },
  {
   "cell_type": "markdown",
   "id": "5e939a76",
   "metadata": {},
   "source": [
    "## ANOVA\n",
    "* numeric data를 가진 multiple group 간 통계적으로 유의미한 차이가 있는지 검정하는 절차"
   ]
  },
  {
   "attachments": {
    "image.png": {
     "image/png": "[encoded data removed]"
    }
   },
   "cell_type": "markdown",
   "id": "5f9f3bc0",
   "metadata": {},
   "source": [
    "![image.png](attachment:image.png)\n",
    "* 4개의 웹페이지에, 각각 5명의 방문자가 잔류했던 시간(second)\n",
    "* 각 웹페이지에 대한 기록은 서로 완전히 독립적이라고 가정\n",
    "* 각 웹페이지에 대해 평균 잔류 시간이 유의미하게 차이가 있는지 검정"
   ]
  },
  {
   "cell_type": "code",
   "execution_count": null,
   "id": "52a32f54",
   "metadata": {},
   "outputs": [],
   "source": []
  },
  {
   "cell_type": "markdown",
   "id": "e3d4442a",
   "metadata": {},
   "source": [
    "* 그룹 간 비교는 6가지 경우가 가능함\n",
    "* 1 vs 2 / 1 vs 3 / 1 vs 4 / 2 vs 3 / 2 vs 4 / 3 vs 5\n",
    "\n",
    "\n",
    "* 모든 그룹이 서로 차이가 없다라는 귀무가설은, 실행하는 검사 수가 많을수록 귀무가설의 진위와 상관없이 기각될 확률이 낮아짐\n",
    "* 위 6가지에 대해 각각 검정을 시행하는 대신, '모든 웹페이지는 차이가 없고, 관찰된 웹페이지 간 차이는 우연히 발생할 수 있는 경우'인가를 검정할 수 있는 실험을 할 수 있음 -> ANOVA\n",
    "\n",
    "\n",
    "1. 모든 데이터를 섞어 하나의 데이터셋으로 만듬\n",
    "2. 새로운 데이터셋을 추출하여, 기존 그룹의 개수/데이터셋 크기와 동일한 새로운 그룹 형성\n",
    "3. 새로운 그룹들의 평균 기록\n",
    "4. 그룹 평균들의 분산 기록\n",
    "5. 2~4 단계를 R회 가량 반복\n",
    "6. resampled variance와 observed variance를 이용하여 p-value 계산"
   ]
  },
  {
   "cell_type": "code",
   "execution_count": null,
   "id": "a969e3d2",
   "metadata": {},
   "outputs": [],
   "source": []
  },
  {
   "cell_type": "markdown",
   "id": "1beb41d0",
   "metadata": {},
   "source": [
    "### F-Statistic\n",
    "* 두 그룹의 평균을 비교하는 permutation test 대신 t-test를 사용했던 것처럼,   \n",
    "ANOVA는 F-statistic에 기반함\n",
    "* F-statistic: residual error로 인한 분산에 대한 그룹 평균 간 분산의 비율을 기반으로 하며,   \n",
    "이 비율이 높을수록 통계적으로 유의하다고 판단함"
   ]
  },
  {
   "cell_type": "code",
   "execution_count": null,
   "id": "a54b359b",
   "metadata": {},
   "outputs": [],
   "source": []
  },
  {
   "cell_type": "markdown",
   "id": "62530dc9",
   "metadata": {},
   "source": [
    "### Two-Way ANOVA\n",
    "* one-way ANOVA: A/B/D/D test 등, 한가지 요소만 차이나는 경우\n",
    "* two-way ANOVA: 두가지 요소가 있는 경우   \n",
    "예시) group A/B,...와 주말/평일\n",
    "\n",
    "\n",
    "* 'interaction effect'을 식별하여, one-way ANOVA와 유사한 방식으로 처리함   \n",
    "먼저 grand average의 effect과 treatment effect를 확인한 후, 각 그룹(treatment) 내에서 주말/평일 observation을 분리하여 treatment average와 해당 하위 분류의 average의 차이를 확인"
   ]
  }
 ],
 "metadata": {
  "interpreter": {
   "hash": "a077222d77dfe082b8f1dd562ad70e458ac2ab76993a0b248ab0476e32e9e8dd"
  },
  "kernelspec": {
   "display_name": "Python 3.9.7",
   "language": "python",
   "name": "python3"
  },
  "language_info": {
   "codemirror_mode": {
    "name": "ipython",
    "version": 3
   },
   "file_extension": ".py",
   "mimetype": "text/x-python",
   "name": "python",
   "nbconvert_exporter": "python",
   "pygments_lexer": "ipython3",
   "version": "3.9.7"
  }
 },
 "nbformat": 4,
 "nbformat_minor": 5
}
