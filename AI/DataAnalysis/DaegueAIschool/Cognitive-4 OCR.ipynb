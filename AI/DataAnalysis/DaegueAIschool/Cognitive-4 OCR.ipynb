{
 "cells": [
  {
   "cell_type": "markdown",
   "id": "abe735be",
   "metadata": {},
   "source": [
    "# OCR 실습"
   ]
  },
  {
   "cell_type": "code",
   "execution_count": 32,
   "id": "e885b444",
   "metadata": {},
   "outputs": [],
   "source": [
    "import requests # 리퀘스트 모듈 사용\n",
    "from PIL import Image # 파이썬 이미지 라이브러리안에 있는 이미지 처리 모듈 사용\n",
    "from io import BytesIO # 입출력 라이브러리 안에 바이너리 처리 모듈 사용\n",
    "import matplotlib.pyplot as plt # atplotlib 라이브러리 안에 있는 pyplot 모듈 사용\n",
    "# MATLAB과 비슷하게 명령어 스타일로 동작하는 함수의 모음 \n",
    "# matplotlib.pyplot 모듈의 각각의 함수를 사용해서 간편하게 그래프를 만들고 변화를 줄 수 있음"
   ]
  },
  {
   "cell_type": "code",
   "execution_count": 33,
   "id": "924de25d",
   "metadata": {},
   "outputs": [],
   "source": [
    "subscription_key = '234a97e32f8447c19fbf3836053ff32c' # MS Azure API 서비스 사용하기위한 구독 키값 저장"
   ]
  },
  {
   "cell_type": "code",
   "execution_count": 34,
   "id": "99d6fcb7",
   "metadata": {},
   "outputs": [],
   "source": [
    "vision_base_url = 'https://daeguaivision00.cognitiveservices.azure.com/vision/v2.0/' # MS Azure API 서비스 URL 저장"
   ]
  },
  {
   "cell_type": "code",
   "execution_count": 35,
   "id": "d7745835",
   "metadata": {},
   "outputs": [],
   "source": [
    "ocr_url = vision_base_url + 'ocr' # 도메인주소에 OCR 사용 명시된 값 저장"
   ]
  },
  {
   "cell_type": "markdown",
   "id": "67604be9",
   "metadata": {},
   "source": [
    "## 분석할 이미지를 셋팅한다"
   ]
  },
  {
   "cell_type": "code",
   "execution_count": 43,
   "id": "af35ae72",
   "metadata": {},
   "outputs": [],
   "source": [
    "image_url = 'https://encrypted-tbn0.gstatic.com/images?q=tbn:ANd9GcSYDWOSiIgk2LOUmbN8aH3CdWcTMxiMwU-e7g&usqp=CAU'\n",
    "# 이미지 주소 저장"
   ]
  },
  {
   "cell_type": "code",
   "execution_count": 44,
   "id": "75b30d2f",
   "metadata": {},
   "outputs": [],
   "source": [
    "img = Image.open(BytesIO(requests.get(image_url).content))\n",
    "# GET 방식으로 이미지를 요청해서 받은 응닶값의 content를 바이너리 조작하여 이미지를 연 결과를 저장"
   ]
  },
  {
   "cell_type": "code",
   "execution_count": 45,
   "id": "015dd667",
   "metadata": {},
   "outputs": [
    {
     "data": {
      "image/png": "[encoded data removed]",
      "text/plain": [
       "<PIL.PngImagePlugin.PngImageFile image mode=P size=246x205 at 0x18DF9B0F760>"
      ]
     },
     "execution_count": 45,
     "metadata": {},
     "output_type": "execute_result"
    }
   ],
   "source": [
    "img"
   ]
  },
  {
   "cell_type": "code",
   "execution_count": 51,
   "id": "25d3bfec",
   "metadata": {},
   "outputs": [],
   "source": [
    "headers = {'Ocp-Apim-Subscription-Key': subscription_key} # 사전형 리스트 매핑\n",
    "params  = {'language': 'unk', 'detectOrientation': 'true'} \n",
    "# 언어 파라미터는 알 수 없음으로 설정하면 자동으로 검색하여 매칭\n",
    "# OCR 서비스는 이미지 방향을 감지하고 추가 처리 전에 수정하려고 시도\n",
    "data    = {'url': image_url} # 이미지 주소 사전형 리스트로 저장"
   ]
  },
  {
   "cell_type": "code",
   "execution_count": 47,
   "id": "e72d76cd",
   "metadata": {},
   "outputs": [],
   "source": [
    "response = requests.post(ocr_url,headers=headers, params=params, json=data)\n",
    "# API 주소에 파라미터 값 지정하여 POST 방식으로 리퀘스트 요청하고 응답값 저장"
   ]
  },
  {
   "cell_type": "code",
   "execution_count": 52,
   "id": "680bb2ce",
   "metadata": {},
   "outputs": [],
   "source": [
    "analysis = response.json() # 저장된 응닶값 Json 형식으로 처리하여 저장"
   ]
  },
  {
   "cell_type": "code",
   "execution_count": 54,
   "id": "31209ab0",
   "metadata": {
    "scrolled": false
   },
   "outputs": [
    {
     "data": {
      "text/plain": [
       "{'language': 'en',\n",
       " 'textAngle': 0.0,\n",
       " 'orientation': 'Up',\n",
       " 'regions': [{'boundingBox': '26,17,198,128',\n",
       "   'lines': [{'boundingBox': '112,17,24,12',\n",
       "     'words': [{'boundingBox': '112,17,24,12', 'text': '008'}]},\n",
       "    {'boundingBox': '26,68,198,16',\n",
       "     'words': [{'boundingBox': '26,68,30,12', 'text': 'Men'},\n",
       "      {'boundingBox': '61,72,20,8', 'text': 'are'},\n",
       "      {'boundingBox': '86,70,20,10', 'text': 'not'},\n",
       "      {'boundingBox': '111,68,61,16', 'text': 'prisoners'},\n",
       "      {'boundingBox': '177,68,16,12', 'text': 'of'},\n",
       "      {'boundingBox': '196,68,28,15', 'text': 'fate,'}]},\n",
       "    {'boundingBox': '38,88,174,17',\n",
       "     'words': [{'boundingBox': '38,89,21,12', 'text': 'but'},\n",
       "      {'boundingBox': '64,89,29,16', 'text': 'only'},\n",
       "      {'boundingBox': '98,89,61,16', 'text': 'prisoners'},\n",
       "      {'boundingBox': '164,88,15,13', 'text': 'of'},\n",
       "      {'boundingBox': '182,89,30,12', 'text': 'their'}]},\n",
       "    {'boundingBox': '86,109,77,13',\n",
       "     'words': [{'boundingBox': '86,113,28,9', 'text': 'own'},\n",
       "      {'boundingBox': '119,109,44,13', 'text': 'minds.'}]},\n",
       "    {'boundingBox': '67,138,115,7',\n",
       "     'words': [{'boundingBox': '67,142,3,1', 'text': '-'},\n",
       "      {'boundingBox': '74,138,28,7', 'text': 'Fmklin'},\n",
       "      {'boundingBox': '180,142,2,1', 'text': '-'}]}]}]}"
      ]
     },
     "execution_count": 54,
     "metadata": {},
     "output_type": "execute_result"
    }
   ],
   "source": [
    "analysis # 출력"
   ]
  },
  {
   "cell_type": "code",
   "execution_count": 56,
   "id": "d23a6539",
   "metadata": {},
   "outputs": [
    {
     "data": {
      "text/plain": [
       "[{'boundingBox': '112,17,24,12', 'text': '008'},\n",
       " {'boundingBox': '26,68,30,12', 'text': 'Men'},\n",
       " {'boundingBox': '61,72,20,8', 'text': 'are'},\n",
       " {'boundingBox': '86,70,20,10', 'text': 'not'},\n",
       " {'boundingBox': '111,68,61,16', 'text': 'prisoners'},\n",
       " {'boundingBox': '177,68,16,12', 'text': 'of'},\n",
       " {'boundingBox': '196,68,28,15', 'text': 'fate,'},\n",
       " {'boundingBox': '38,89,21,12', 'text': 'but'},\n",
       " {'boundingBox': '64,89,29,16', 'text': 'only'},\n",
       " {'boundingBox': '98,89,61,16', 'text': 'prisoners'},\n",
       " {'boundingBox': '164,88,15,13', 'text': 'of'},\n",
       " {'boundingBox': '182,89,30,12', 'text': 'their'},\n",
       " {'boundingBox': '86,113,28,9', 'text': 'own'},\n",
       " {'boundingBox': '119,109,44,13', 'text': 'minds.'},\n",
       " {'boundingBox': '67,142,3,1', 'text': '-'},\n",
       " {'boundingBox': '74,138,28,7', 'text': 'Fmklin'},\n",
       " {'boundingBox': '180,142,2,1', 'text': '-'}]"
      ]
     },
     "execution_count": 56,
     "metadata": {},
     "output_type": "execute_result"
    }
   ],
   "source": [
    "line_infos = [region[\"lines\"] for region in analysis[\"regions\"]] \n",
    "# \"regions\" 항목의 내용이 끝날때까지 region에 저장하고 내용 안에 Lines 항목에 내용을 line_infos 저장\n",
    "word_infos = [] # 배열 또는 리스트 변수 생성\n",
    "for line in line_infos: # line_infos변수에 있는 내용이 끝날때까지 line변수에 저장\n",
    "    for word_metadata in line: # line변수의 내용이 끝날때까지 word_metadata에 저장\n",
    "        for word_info in word_metadata[\"words\"]:#Words 항목 저장\n",
    "            word_infos.append(word_info) # Word의 내용을 word_infos에 사전형 리스트로 저장\n",
    "word_infos\n",
    "# 해당 항목으로 가기위해서 계층적으로 저장할 수 밖에 없어서 반복문을통해 한계층씩 내려가서 Word항목들만 새로운 사전형 리스트에 추가"
   ]
  },
  {
   "cell_type": "code",
   "execution_count": null,
   "id": "9350363a",
   "metadata": {},
   "outputs": [],
   "source": []
  },
  {
   "cell_type": "code",
   "execution_count": null,
   "id": "3df45aac",
   "metadata": {},
   "outputs": [],
   "source": []
  }
 ],
 "metadata": {
  "kernelspec": {
   "display_name": "Python 3 (ipykernel)",
   "language": "python",
   "name": "python3"
  },
  "language_info": {
   "codemirror_mode": {
    "name": "ipython",
    "version": 3
   },
   "file_extension": ".py",
   "mimetype": "text/x-python",
   "name": "python",
   "nbconvert_exporter": "python",
   "pygments_lexer": "ipython3",
   "version": "3.9.7"
  }
 },
 "nbformat": 4,
 "nbformat_minor": 5
}
